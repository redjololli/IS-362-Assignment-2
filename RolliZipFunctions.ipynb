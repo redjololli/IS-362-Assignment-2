{
 "cells": [
  {
   "cell_type": "markdown",
   "metadata": {},
   "source": [
    "- Create a small Jupyter (IPython) Notebook  about one aspect of data structures that you might find somewhat challenging, such as set comprehensions, or using the zip() function.  Your Jupyter Notebook should include both code and some documentation,which should utilize Markdown."
   ]
  },
  {
   "cell_type": "markdown",
   "metadata": {},
   "source": [
    "# Python zip() function."
   ]
  },
  {
   "cell_type": "markdown",
   "metadata": {},
   "source": [
    "- **The purpose of zip() is to map the similar index of multiple containers so that they can be used just using as single entity.**\n"
   ]
  },
  {
   "cell_type": "markdown",
   "metadata": {},
   "source": [
    "- **Syntax:** <br> *zip(*iterators)\n",
    "- **Parameters:** <br> *Python iterables or containers ( list, string etc )*\n",
    "- **Return Value:** <br> *Returns a single iterator object having mapped values from all the containersPython zip().*\n"
   ]
  },
  {
   "cell_type": "code",
   "execution_count": 18,
   "metadata": {},
   "outputs": [
    {
     "name": "stdout",
     "output_type": "stream",
     "text": [
      "Student :  John   Grade : 90\n",
      "Student :  Edd   Grade : 80\n",
      "Student :  Arthur   Grade : 98\n",
      "Student :  Red   Grade : 79\n",
      "Student :  Chin   Grade : 100\n",
      "Student :  Lin   Grade : 82\n",
      "Student :  Bimi   Grade : 91\n"
     ]
    }
   ],
   "source": [
    "#Sample Python code to demostrate the application of zip()\n",
    "#initiating list of students    \n",
    "students = [\"John\", \"Edd\", \"Arthur\", \"Red\", \"Chin\", \"Lin\", \"Bimi\" ]\n",
    "\n",
    "#initiating students grades\n",
    "grades = [90, 80, 98, 79, 100, 82, 91 ]\n",
    "\n",
    "#printing students and their grades\n",
    "for st, gr in zip(students, grades):\n",
    "    print (\"Student :  %s   Grade : %d\" %(st, gr))\n",
    "\n"
   ]
  },
  {
   "cell_type": "code",
   "execution_count": null,
   "metadata": {},
   "outputs": [],
   "source": []
  }
 ],
 "metadata": {
  "kernelspec": {
   "display_name": "Python 3",
   "language": "python",
   "name": "python3"
  },
  "language_info": {
   "codemirror_mode": {
    "name": "ipython",
    "version": 3
   },
   "file_extension": ".py",
   "mimetype": "text/x-python",
   "name": "python",
   "nbconvert_exporter": "python",
   "pygments_lexer": "ipython3",
   "version": "3.8.3"
  }
 },
 "nbformat": 4,
 "nbformat_minor": 4
}
